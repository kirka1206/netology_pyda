{
 "cells": [
  {
   "cell_type": "markdown",
   "metadata": {},
   "source": [
    "# Задание 1"
   ]
  },
  {
   "cell_type": "code",
   "execution_count": 8,
   "metadata": {},
   "outputs": [
    {
     "name": "stdout",
     "output_type": "stream",
     "text": [
      "True\n",
      "True\n",
      "True\n",
      "True\n",
      "True\n",
      "True\n"
     ]
    }
   ],
   "source": [
    "geo_logs = [\n",
    "\n",
    "{'visit1': ['Москва', 'Россия']},\n",
    "\n",
    "{'visit2': ['Дели', 'Индия']},\n",
    "\n",
    "{'visit3': ['Владимир', 'Россия']},\n",
    "\n",
    "{'visit4': ['Лиссабон', 'Португалия']},\n",
    "\n",
    "{'visit5': ['Париж', 'Франция']},\n",
    "\n",
    "{'visit6': ['Лиссабон', 'Португалия']},\n",
    "\n",
    "{'visit7': ['Тула', 'Россия']},\n",
    "\n",
    "{'visit8': ['Тула', 'Россия']},\n",
    "\n",
    "{'visit9': ['Курск', 'Россия']},\n",
    "\n",
    "{'visit10': ['Архангельск', 'Россия']},\n",
    "\n",
    "]\n",
    "\n",
    "for visit in geo_logs:\n",
    "    if 'Россия' in list(visit.values())[0]:\n",
    "        "
   ]
  },
  {
   "cell_type": "code",
   "execution_count": 153,
   "metadata": {},
   "outputs": [
    {
     "data": {
      "text/plain": [
       "[{'visit1': ['Москва', 'Россия']},\n",
       " {'visit3': ['Владимир', 'Россия']},\n",
       " {'visit7': ['Тула', 'Россия']},\n",
       " {'visit8': ['Тула', 'Россия']},\n",
       " {'visit9': ['Курск', 'Россия']},\n",
       " {'visit10': ['Архангельск', 'Россия']}]"
      ]
     },
     "execution_count": 153,
     "metadata": {},
     "output_type": "execute_result"
    }
   ],
   "source": [
    "list(filter(lambda visit: 'Россия' in list(visit.values())[0], geo_logs))"
   ]
  },
  {
   "cell_type": "markdown",
   "metadata": {},
   "source": [
    "# Задание 2"
   ]
  },
  {
   "cell_type": "code",
   "execution_count": 154,
   "metadata": {},
   "outputs": [],
   "source": [
    "ids = {'user1': [213, 213, 213, 15, 213], 'user2': [54, 54, 119, 119, 119], 'user3': [213, 98, 98, 35]}"
   ]
  },
  {
   "cell_type": "code",
   "execution_count": 155,
   "metadata": {},
   "outputs": [
    {
     "data": {
      "text/plain": [
       "[98, 35, 15, 213, 54, 119]"
      ]
     },
     "execution_count": 155,
     "metadata": {},
     "output_type": "execute_result"
    }
   ],
   "source": [
    "list(set(sum(list(ids.values()), [])))"
   ]
  },
  {
   "cell_type": "markdown",
   "metadata": {},
   "source": [
    "# Задание 3"
   ]
  },
  {
   "cell_type": "code",
   "execution_count": 156,
   "metadata": {},
   "outputs": [],
   "source": [
    "queries = [\n",
    "\n",
    "'смотреть сериалы онлайн',\n",
    "\n",
    "'новости спорта',\n",
    "\n",
    "'афиша кино',\n",
    "\n",
    "'курс доллара',\n",
    "\n",
    "'сериалы этим летом',\n",
    "\n",
    "'курс по питону',\n",
    "\n",
    "'сериалы про спорт',\n",
    "\n",
    "]"
   ]
  },
  {
   "cell_type": "code",
   "execution_count": 157,
   "metadata": {},
   "outputs": [
    {
     "data": {
      "text/plain": [
       "Counter({3: 57.14, 2: 42.86})"
      ]
     },
     "execution_count": 157,
     "metadata": {},
     "output_type": "execute_result"
    }
   ],
   "source": [
    "from collections import Counter\n",
    "counter = Counter([len(query.split()) for query in queries])\n",
    "\n",
    "for k in counter.keys():\n",
    "    counter[k] = round(counter[k] / len(queries) * 100, 2)\n",
    "counter"
   ]
  },
  {
   "cell_type": "markdown",
   "metadata": {},
   "source": [
    "# Задание 4"
   ]
  },
  {
   "cell_type": "code",
   "execution_count": 158,
   "metadata": {},
   "outputs": [],
   "source": [
    "stats = {'facebook': 55, 'yandex': 120, 'vk': 115, 'google': 99, 'email': 42, 'ok': 98}"
   ]
  },
  {
   "cell_type": "code",
   "execution_count": 159,
   "metadata": {},
   "outputs": [
    {
     "data": {
      "text/plain": [
       "'yandex'"
      ]
     },
     "execution_count": 159,
     "metadata": {},
     "output_type": "execute_result"
    }
   ],
   "source": [
    "max(stats, key=stats.get) # в задании нет условия, что может быть несколько каналов с одинаковым максимальным объемом продаж, поэтому так :)"
   ]
  },
  {
   "cell_type": "markdown",
   "metadata": {},
   "source": [
    "# Задание 5"
   ]
  },
  {
   "cell_type": "code",
   "execution_count": 160,
   "metadata": {},
   "outputs": [],
   "source": [
    "stream = [\n",
    "\n",
    "'2018-01-01,user1,3',\n",
    "\n",
    "'2018-01-07,user1,4',\n",
    "\n",
    "'2018-03-29,user1,1',\n",
    "\n",
    "'2018-04-04,user1,13',\n",
    "\n",
    "'2018-01-05,user2,7',\n",
    "\n",
    "'2018-06-14,user3,4',\n",
    "\n",
    "'2018-07-02,user3,10',\n",
    "\n",
    "'2018-03-21,user4,19',\n",
    "\n",
    "'2018-03-22,user4,4',\n",
    "\n",
    "'2018-04-22,user4,8',\n",
    "\n",
    "'2018-05-03,user4,9',\n",
    "\n",
    "'2018-05-11,user4,11',\n",
    "\n",
    "]"
   ]
  },
  {
   "cell_type": "code",
   "execution_count": 161,
   "metadata": {},
   "outputs": [
    {
     "name": "stdout",
     "output_type": "stream",
     "text": [
      "23.25\n"
     ]
    }
   ],
   "source": [
    "unique_users = []\n",
    "total_pages = 0\n",
    "for visit in stream:\n",
    "    visit = visit.split(',')\n",
    "    total_pages += int(visit[2])\n",
    "    if visit[1] not in unique_users:\n",
    "        unique_users.append(visit[1])\n",
    "\n",
    "print(round(total_pages / len(unique_users), 2))\n",
    "    \n",
    "    "
   ]
  },
  {
   "cell_type": "markdown",
   "metadata": {},
   "source": [
    "# Задание 6"
   ]
  },
  {
   "cell_type": "code",
   "execution_count": 162,
   "metadata": {},
   "outputs": [],
   "source": [
    "stats = [\n",
    "\n",
    "['2018-01-01', 'google', 25],\n",
    "\n",
    "['2018-01-01', 'yandex', 65],\n",
    "\n",
    "['2018-01-01', 'market', 89],\n",
    "\n",
    "['2018-01-02', 'google', 574],\n",
    "\n",
    "['2018-01-02', 'yandex', 249],\n",
    "\n",
    "['2018-01-02', 'market', 994],\n",
    "\n",
    "['2018-01-03', 'google', 1843],\n",
    "\n",
    "['2018-01-03', 'yandex', 1327],\n",
    "\n",
    "['2018-01-03', 'market', 1764],\n",
    "\n",
    "]"
   ]
  },
  {
   "cell_type": "code",
   "execution_count": 163,
   "metadata": {},
   "outputs": [],
   "source": [
    "def filter_func(date, name):\n",
    "    return list(filter(lambda stat: date in stat and name in stat, stats))[0][-1]"
   ]
  },
  {
   "cell_type": "code",
   "execution_count": 164,
   "metadata": {},
   "outputs": [
    {
     "data": {
      "text/plain": [
       "25"
      ]
     },
     "execution_count": 164,
     "metadata": {},
     "output_type": "execute_result"
    }
   ],
   "source": [
    "filter_func('2018-01-01', 'google')"
   ]
  }
 ],
 "metadata": {
  "kernelspec": {
   "display_name": "Python 3",
   "language": "python",
   "name": "python3"
  },
  "language_info": {
   "codemirror_mode": {
    "name": "ipython",
    "version": 3
   },
   "file_extension": ".py",
   "mimetype": "text/x-python",
   "name": "python",
   "nbconvert_exporter": "python",
   "pygments_lexer": "ipython3",
   "version": "3.7.1"
  }
 },
 "nbformat": 4,
 "nbformat_minor": 2
}
